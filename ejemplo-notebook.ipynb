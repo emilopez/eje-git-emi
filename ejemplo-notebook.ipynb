{
 "cells": [
  {
   "cell_type": "code",
   "execution_count": 1,
   "metadata": {},
   "outputs": [
    {
     "name": "stdout",
     "output_type": "stream",
     "text": [
      "esto es una celda de código\n"
     ]
    }
   ],
   "source": [
    "print(\"esto es una celda de código\")"
   ]
  },
  {
   "cell_type": "markdown",
   "metadata": {},
   "source": [
    "## esto es un título\n",
    "- esto un ítem\n",
    "- otro ìtem \n",
    "- **esto está en negrita**"
   ]
  },
  {
   "cell_type": "code",
   "execution_count": null,
   "metadata": {},
   "outputs": [],
   "source": [
    "import numpy as np\n",
    "import plotly.graph_objects as go\n",
    "\n",
    "t = np.arange(0,1,0.01)\n",
    "f1 = np.sin(2*np.pi*t)\n",
    "f2 = np.cos(2*np.pi*t)\n",
    "\n",
    "fig = go.Figure()\n",
    "fig.add_trace(go.Scattergl(x=t, y=f1, mode=\"lines\", name=\"sin()\"))\n",
    "fig.add_trace(go.Scattergl(x=t, y=f2, mode=\"lines\", name=\"cos()\"))\n",
    "fig.add_trace(go.Scattergl(x=t, y=f1+f2, mode=\"lines\", name=\"suma\"))\n",
    "\n",
    "fig.show()"
   ]
  },
  {
   "cell_type": "markdown",
   "metadata": {},
   "source": []
  }
 ],
 "metadata": {
  "kernelspec": {
   "display_name": "Python 3.9.13 ('base')",
   "language": "python",
   "name": "python3"
  },
  "language_info": {
   "codemirror_mode": {
    "name": "ipython",
    "version": 3
   },
   "file_extension": ".py",
   "mimetype": "text/x-python",
   "name": "python",
   "nbconvert_exporter": "python",
   "pygments_lexer": "ipython3",
   "version": "3.9.13"
  },
  "orig_nbformat": 4,
  "vscode": {
   "interpreter": {
    "hash": "957aa7547129db25ad41c17165625123a17fa712c2e879cbbc3222689250d9f7"
   }
  }
 },
 "nbformat": 4,
 "nbformat_minor": 2
}
